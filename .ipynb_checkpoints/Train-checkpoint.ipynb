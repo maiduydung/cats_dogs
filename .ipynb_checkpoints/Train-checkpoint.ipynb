{
 "cells": [
  {
   "cell_type": "code",
   "execution_count": 1,
   "metadata": {},
   "outputs": [],
   "source": [
    "import os\n",
    "import numpy as np\n",
    "import matplotlib.pyplot as plt\n",
    "from tensorflow.keras.models import Sequential\n",
    "from tensorflow.keras.layers import Conv2D,MaxPooling2D\n",
    "from tensorflow.keras.layers import Dropout,Flatten, Dense\n",
    "from tensorflow.keras.callbacks import EarlyStopping\n",
    "from tensorflow.keras.callbacks import CSVLogger\n",
    "from tensorflow.keras.utils import to_categorical\n"
   ]
  },
  {
   "cell_type": "code",
   "execution_count": 11,
   "metadata": {},
   "outputs": [],
   "source": [
    "w = 56 #resizing input pictures to 56*56\n",
    "work_dir = 'data/dogs_cats'\n",
    "npy_data_base = 'dogs_cats-data'\n",
    "npy_labels_base = 'dogs_cats-labels'\n",
    "classes = ['dogs', 'cats']\n",
    "num_classes=len(classes)\n",
    "\n",
    "\n",
    "model_file = \"dogs_cats-model-w{0}\".format(w)\n",
    "history_file = \"dogs_cats-history-w{0}.csv\".format(w)"
   ]
  },
  {
   "cell_type": "markdown",
   "metadata": {},
   "source": [
    "#### Reading test/train data from npy files\n",
    "##### Also converting X (0-255) to 0-1 and y to (0-1) one hot encoding"
   ]
  },
  {
   "cell_type": "code",
   "execution_count": 48,
   "metadata": {},
   "outputs": [
    {
     "name": "stdout",
     "output_type": "stream",
     "text": [
      "(2000, 56, 56, 3)\n",
      "(2000, 2)\n",
      "(400, 56, 56, 3)\n",
      "(400, 2)\n",
      "img size 56 56\n",
      "img channels 3\n"
     ]
    }
   ],
   "source": [
    "# getting training data\n",
    "X_train_file = work_dir+\"/train-dogs_cats-data-56.npy\"\n",
    "y_train_file = work_dir+\"/train-dogs_cats-labels-56.npy\"\n",
    "X_train = np.load(X_train_file).astype(\"float16\")\n",
    "y_train = np.load(y_train_file)\n",
    "X_train = X_train/255\n",
    "y_train = to_categorical(y_train, num_classes) \n",
    "\n",
    "#getting testing data\n",
    "X_test_file = work_dir+'/test-dogs_cats-data-56.npy'\n",
    "y_test_file = work_dir+'/test-dogs_cats-labels-56.npy'\n",
    "X_test = np.load(X_test_file).astype(\"float16\")\n",
    "y_test = np.load(y_test_file)\n",
    "X_test = X_test/255\n",
    "y_test = to_categorical(y_test, num_classes)\n",
    "\n",
    "print( X_train.shape )\n",
    "print( y_train.shape )\n",
    "print( X_test.shape )\n",
    "print( y_test.shape )\n",
    "\n",
    "img_rows = X_train.shape[1]\n",
    "img_cols = X_train.shape[2]\n",
    "img_channels = X_train.shape[3]\n",
    "\n",
    "print('img size', img_row, img_col)\n",
    "print('img channels', img_channels)"
   ]
  },
  {
   "cell_type": "code",
   "execution_count": 46,
   "metadata": {},
   "outputs": [
    {
     "data": {
      "text/plain": [
       "56"
      ]
     },
     "execution_count": 46,
     "metadata": {},
     "output_type": "execute_result"
    }
   ],
   "source": [
    "X_train.shape[2]"
   ]
  },
  {
   "cell_type": "code",
   "execution_count": null,
   "metadata": {},
   "outputs": [],
   "source": []
  }
 ],
 "metadata": {
  "kernelspec": {
   "display_name": "Python 3",
   "language": "python",
   "name": "python3"
  },
  "language_info": {
   "codemirror_mode": {
    "name": "ipython",
    "version": 3
   },
   "file_extension": ".py",
   "mimetype": "text/x-python",
   "name": "python",
   "nbconvert_exporter": "python",
   "pygments_lexer": "ipython3",
   "version": "3.6.10"
  }
 },
 "nbformat": 4,
 "nbformat_minor": 4
}
