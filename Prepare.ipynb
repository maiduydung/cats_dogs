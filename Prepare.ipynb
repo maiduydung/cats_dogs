{
 "cells": [
  {
   "cell_type": "code",
   "execution_count": 9,
   "metadata": {},
   "outputs": [],
   "source": [
    "import os, glob\n",
    "import numpy as np\n",
    "from PIL import Image"
   ]
  },
  {
   "cell_type": "code",
   "execution_count": 10,
   "metadata": {},
   "outputs": [],
   "source": [
    "w = 56 # resizing all picture to 56*56\n",
    "work_dir = 'data/dogs_cats'\n",
    "npy_data_base = 'dogs_cats-data'     #training/test data\n",
    "npy_labels_base = 'dog_cats_labels'  #labels\n",
    "classes = ['dogs', 'cats'] # also folder name\n",
    "num_classes = len(classes)\n"
   ]
  },
  {
   "cell_type": "code",
   "execution_count": 11,
   "metadata": {},
   "outputs": [
    {
     "name": "stdout",
     "output_type": "stream",
     "text": [
      "mode:  train class: dogs\n",
      "mode:  train class: cats\n",
      "mode:  test class: dogs\n",
      "mode:  test class: cats\n",
      "OK\n",
      "Wall time: 7.13 s\n"
     ]
    }
   ],
   "source": [
    "%%time\n",
    "\n",
    "ok=1\n",
    "for mode in ['train', 'test']:\n",
    "    X = [] #img data\n",
    "    y = [] #labels\n",
    "    npy_data_file = '{0}-{1}-w{2}.npy'.format(npy_data_base, mode, w)\n",
    "    npy_labels_file = '{0}-{1}-w{2}.npy'.format(npy_labels_base, mode, w)\n",
    "    for i in range (0, num_classes):\n",
    "        cls = classes[i]\n",
    "        image_dir = work_dir+'/original/'+mode+'/'+cls\n",
    "        files = glob.glob(image_dir+'/*.*') # grab every file within img_dir\n",
    "        print('mode: ', mode, 'class:', cls)\n",
    "        for f in files:\n",
    "            img = Image.open(f) # open img in directory f\n",
    "            img = img.convert(\"RGB\")\n",
    "            img = img.resize((w,w)) #at this point img is still a type (Image)\n",
    "            \n",
    "            #putting img to np array, store as int (rgb)\n",
    "            #with the shape (56,56,3)\n",
    "            data = np.array(img)  \n",
    "            X.append(data)\n",
    "            y.append(i)\n",
    "    X = np.array(X)\n",
    "    y = np.array(y)\n",
    "    data_file = work_dir + npy_data_file\n",
    "    label_file = work_dir + npy_labels_file\n",
    "    np.save(data_file, X)\n",
    "    np.save(label_file, y)\n",
    "    \n",
    "    \n",
    "    if not os.path.exists(data_file):\n",
    "        ok=0\n",
    "    if not os.path.exists(label_file):\n",
    "        ok=0\n",
    "        \n",
    "if ok==1:\n",
    "    print(\"OK\")\n"
   ]
  },
  {
   "cell_type": "code",
   "execution_count": null,
   "metadata": {},
   "outputs": [],
   "source": []
  }
 ],
 "metadata": {
  "kernelspec": {
   "display_name": "Python 3",
   "language": "python",
   "name": "python3"
  },
  "language_info": {
   "codemirror_mode": {
    "name": "ipython",
    "version": 3
   },
   "file_extension": ".py",
   "mimetype": "text/x-python",
   "name": "python",
   "nbconvert_exporter": "python",
   "pygments_lexer": "ipython3",
   "version": "3.6.10"
  }
 },
 "nbformat": 4,
 "nbformat_minor": 4
}
